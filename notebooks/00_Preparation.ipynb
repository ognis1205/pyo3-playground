{
 "cells": [
  {
   "cell_type": "markdown",
   "id": "28a5f31b",
   "metadata": {},
   "source": [
    "## Rust Ecosystem\n",
    "\n",
    "### Rust Compiler\n",
    "Rust development operates on a train schedule. That is, all development is done on the master branch of the Rust repository. Releases follow a software release train model, which has been used by Cisco IOS and other software projects. There are three release channels for Rust:\n",
    "\n",
    " - Nightly\n",
    " - Beta\n",
    " - Stable\n",
    "\n",
    "### Cargo\n",
    "Cargo is the Rust package manager.\n",
    " \n",
    "### cargo-expand\n",
    "cargo-expand is a Cargo subcommand to show result of the Rust macro expantion.\n",
    " \n",
    "### Rustup\n",
    "Rustup installs The Rust Programming Language from the official release channels, enabling you to easily switch between stable, beta, and nightly compilers and keep them updated."
   ]
  },
  {
   "cell_type": "markdown",
   "id": "c7a739ca",
   "metadata": {},
   "source": []
  }
 ],
 "metadata": {
  "kernelspec": {
   "display_name": "Python 3 (ipykernel)",
   "language": "python",
   "name": "python3"
  },
  "language_info": {
   "codemirror_mode": {
    "name": "ipython",
    "version": 3
   },
   "file_extension": ".py",
   "mimetype": "text/x-python",
   "name": "python",
   "nbconvert_exporter": "python",
   "pygments_lexer": "ipython3",
   "version": "3.8.13"
  }
 },
 "nbformat": 4,
 "nbformat_minor": 5
}
