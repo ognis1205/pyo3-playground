{
 "cells": [
  {
   "cell_type": "markdown",
   "id": "28a5f31b",
   "metadata": {},
   "source": [
    "## Rust Ecosystem\n",
    "\n",
    "If you are not familiar with Rust development, please install [rustup](https://www.rust-lang.org/tools/install) first. [Rustup](https://www.rust-lang.org/tools/install) is a toolchain installer that helps you install The Rust Programming Language from the official release channels. The following is a brief explanation of Rust development. You can skip this section if you are already familiar with it. If you are using Linux or macOS, open a terminal and enter the following command:"
   ]
  },
  {
   "cell_type": "code",
   "execution_count": 6,
   "id": "296f8e56",
   "metadata": {},
   "outputs": [
    {
     "name": "stdout",
     "output_type": "stream",
     "text": [
      "rustc 1.67.0 (fc594f156 2023-01-24)\n"
     ]
    }
   ],
   "source": [
    "%%bash\n",
    "curl --proto '=https' --tlsv1.2 https://sh.rustup.rs -sSf | sh\n",
    "rustc --version"
   ]
  },
  {
   "cell_type": "markdown",
   "id": "789debe8",
   "metadata": {},
   "source": [
    "### Cargo\n",
    "[Cargo](https://doc.rust-lang.org/cargo/) is Rust's build system and package manager. Most Rustaceans use this tool to manage Rust projects. [Cargo](https://doc.rust-lang.org/cargo/) handles tasks such as building code, downloading dependencies (libraries that code depends on, referred to as \"dependencies\"), and building those libraries. It takes care of many tasks related to managing Rust projects. If you are using the official [rustup](https://www.rust-lang.org/tools/install) installer in the previous section, [Cargo](https://doc.rust-lang.org/cargo/) will be automatically installed for you."
   ]
  },
  {
   "cell_type": "code",
   "execution_count": 7,
   "id": "edf1be80",
   "metadata": {},
   "outputs": [
    {
     "name": "stdout",
     "output_type": "stream",
     "text": [
      "cargo 1.67.0 (8ecd4f20a 2023-01-10)\n"
     ]
    }
   ],
   "source": [
    "%%bash\n",
    "cargo --version"
   ]
  },
  {
   "cell_type": "markdown",
   "id": "a1ff180d",
   "metadata": {},
   "source": [
    "### cargo-expand\n",
    "[cargo-expand](https://github.com/dtolnay/cargo-expand) is a subcommand that allows you to view the results of macro expansion in Rust code. To install [cargo-expand](https://github.com/dtolnay/cargo-expand), open a terminal and enter the following command:"
   ]
  },
  {
   "cell_type": "code",
   "execution_count": 4,
   "id": "854703ea",
   "metadata": {},
   "outputs": [
    {
     "name": "stderr",
     "output_type": "stream",
     "text": [
      "    Updating crates.io index\n",
      "     Ignored package `cargo-expand v1.0.52` is already installed, use --force to override\n"
     ]
    }
   ],
   "source": [
    "%%bash\n",
    "cargo install cargo-expand"
   ]
  },
  {
   "cell_type": "markdown",
   "id": "9239b1d7",
   "metadata": {},
   "source": [
    "### Rust Compiler Train Schedule\n",
    "\n",
    "Rust development operates on a train schedule. That is, all development is done on the master branch of the Rust repository. Releases follow a software release train model, which has been used by Cisco IOS and other software projects. There are three release channels for Rust:\n",
    "\n",
    " - Nightly\n",
    " - Beta\n",
    " - Stable\n",
    "\n",
    "To execute `cargo-expand`, you need the nightly compiler. If you haven't installed it yet, please use `rustup` to install the toolchain."
   ]
  },
  {
   "cell_type": "code",
   "execution_count": 8,
   "id": "27889943",
   "metadata": {},
   "outputs": [
    {
     "name": "stderr",
     "output_type": "stream",
     "text": [
      "info: syncing channel updates for 'nightly-x86_64-apple-darwin'\n",
      "info: latest update on 2023-06-04, rust version 1.72.0-nightly (398fa2187 2023-06-03)\n",
      "info: downloading component 'cargo'\n",
      "info: downloading component 'clippy'\n",
      "info: downloading component 'rust-docs'\n",
      "info: downloading component 'rust-std'\n",
      "info: downloading component 'rustc'\n",
      "info: downloading component 'rustfmt'\n",
      "info: removing previous version of component 'cargo'\n",
      "info: removing previous version of component 'clippy'\n",
      "info: removing previous version of component 'rust-docs'\n",
      "info: removing previous version of component 'rust-std'\n",
      "info: removing previous version of component 'rustc'\n",
      "info: removing previous version of component 'rustfmt'\n",
      "info: installing component 'cargo'\n",
      "info: installing component 'clippy'\n",
      "info: installing component 'rust-docs'\n",
      "info: installing component 'rust-std'\n",
      "info: installing component 'rustc'\n",
      "info: installing component 'rustfmt'\n"
     ]
    },
    {
     "name": "stdout",
     "output_type": "stream",
     "text": [
      "\n",
      "  nightly-x86_64-apple-darwin updated - rustc 1.72.0-nightly (398fa2187 2023-06-03) (from rustc 1.72.0-nightly (871b59520 2023-05-31))\n",
      "\n"
     ]
    },
    {
     "name": "stderr",
     "output_type": "stream",
     "text": [
      "info: checking for self-update\n"
     ]
    }
   ],
   "source": [
    "%%bash\n",
    "rustup toolchain install nightly"
   ]
  },
  {
   "cell_type": "code",
   "execution_count": null,
   "id": "f09af8ca",
   "metadata": {},
   "outputs": [],
   "source": []
  }
 ],
 "metadata": {
  "kernelspec": {
   "display_name": "Python 3 (ipykernel)",
   "language": "python",
   "name": "python3"
  },
  "language_info": {
   "codemirror_mode": {
    "name": "ipython",
    "version": 3
   },
   "file_extension": ".py",
   "mimetype": "text/x-python",
   "name": "python",
   "nbconvert_exporter": "python",
   "pygments_lexer": "ipython3",
   "version": "3.8.13"
  }
 },
 "nbformat": 4,
 "nbformat_minor": 5
}
